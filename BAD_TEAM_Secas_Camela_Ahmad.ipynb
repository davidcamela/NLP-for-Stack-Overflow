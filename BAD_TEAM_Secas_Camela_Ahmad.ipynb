This file is divide in 5 main sections. 
* Data Exploration and preliminatory analysis 
* Data preprocessing
* Classification Models
** SVM
** Random Forest
* Tags Classification
* Prediction
